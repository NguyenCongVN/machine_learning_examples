{
 "cells": [
  {
   "cell_type": "code",
   "execution_count": 1,
   "metadata": {},
   "outputs": [],
   "source": [
    "import numpy as np\n",
    "import pandas as pd"
   ]
  },
  {
   "cell_type": "code",
   "execution_count": 8,
   "metadata": {},
   "outputs": [],
   "source": [
    "def get_data():\n",
    "    df = pd.read_csv('ecommerce_data.csv')\n",
    "    data = np.array(df)\n",
    "    X = data[: , :-1]\n",
    "    Y = data[: , -1]\n",
    "    X[: , 1] = (X[: , 1] - X[: , 1].mean()) /  X[: , 1].std()\n",
    "    X[: , 2] = (X[: , 2] - X[: , 2].mean()) /  X[: , 2].std()\n",
    "    "
   ]
  },
  {
   "cell_type": "code",
   "execution_count": 9,
   "metadata": {},
   "outputs": [
    {
     "name": "stdout",
     "output_type": "stream",
     "text": [
      "   is_mobile  n_products_viewed  visit_duration  is_returning_visitor  \\\n",
      "0          1                  0        0.657510                     0   \n",
      "1          1                  1        0.568571                     0   \n",
      "2          1                  0        0.042246                     1   \n",
      "3          1                  1        1.659793                     1   \n",
      "4          0                  1        2.014745                     1   \n",
      "\n",
      "   time_of_day  user_action  \n",
      "0            3            0  \n",
      "1            2            1  \n",
      "2            1            0  \n",
      "3            1            2  \n",
      "4            1            2  \n",
      "[[ 1.         -0.81697841 -0.40827769  0.          3.        ]\n",
      " [ 1.          0.13967078 -0.4994283   0.          2.        ]\n",
      " [ 1.         -0.81697841 -1.03884323  1.          1.        ]\n",
      " ...\n",
      " [ 0.         -0.81697841 -0.90498762  1.          3.        ]\n",
      " [ 1.         -0.81697841 -0.86695367  0.          3.        ]\n",
      " [ 0.         -0.81697841  1.59982383  1.          3.        ]]\n"
     ]
    }
   ],
   "source": [
    "get_data()"
   ]
  },
  {
   "cell_type": "code",
   "execution_count": null,
   "metadata": {},
   "outputs": [],
   "source": []
  },
  {
   "cell_type": "code",
   "execution_count": null,
   "metadata": {},
   "outputs": [],
   "source": []
  }
 ],
 "metadata": {
  "kernelspec": {
   "display_name": "Python 3",
   "language": "python",
   "name": "python3"
  },
  "language_info": {
   "codemirror_mode": {
    "name": "ipython",
    "version": 3
   },
   "file_extension": ".py",
   "mimetype": "text/x-python",
   "name": "python",
   "nbconvert_exporter": "python",
   "pygments_lexer": "ipython3",
   "version": "3.8.5"
  }
 },
 "nbformat": 4,
 "nbformat_minor": 4
}
