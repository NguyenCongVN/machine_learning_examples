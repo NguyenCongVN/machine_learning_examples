{
 "cells": [
  {
   "cell_type": "code",
   "execution_count": 1,
   "metadata": {},
   "outputs": [],
   "source": [
    "import numpy as np\n",
    "import matplotlib.pyplot as plt"
   ]
  },
  {
   "cell_type": "code",
   "execution_count": 2,
   "metadata": {},
   "outputs": [],
   "source": [
    "N = 100\n",
    "D = 2\n",
    "X = np.random.randn(N,D)"
   ]
  },
  {
   "cell_type": "code",
   "execution_count": 3,
   "metadata": {},
   "outputs": [],
   "source": [
    "# center the first 50 points at (-2,-2)\n",
    "X[:50,:] = X[:50,:] - 2*np.ones((50,D))\n",
    "\n",
    "# center the last 50 points at (2, 2)\n",
    "X[50:,:] = X[50:,:] + 2*np.ones((50,D))\n",
    "\n",
    "# labels: first 50 are 0, last 50 are 1\n",
    "T = np.array([0]*50 + [1]*50)\n",
    "\n",
    "# add a column of ones\n",
    "# ones = np.array([[1]*N]).T\n",
    "ones = np.ones((N, 1))\n",
    "Xb = np.concatenate((ones, X), axis=1)"
   ]
  },
  {
   "cell_type": "code",
   "execution_count": 4,
   "metadata": {},
   "outputs": [],
   "source": [
    "def sigmoid(z):\n",
    "    return 1/(1 + np.exp(-z))"
   ]
  },
  {
   "cell_type": "code",
   "execution_count": 5,
   "metadata": {},
   "outputs": [],
   "source": [
    "def cross_entropy(T, pY):\n",
    "    E = 0\n",
    "    for i in range(N):\n",
    "        if T[i] == 1:\n",
    "            E -= np.log(Y[i])\n",
    "        else:\n",
    "            E -= np.log(1 - Y[i])\n",
    "    return E"
   ]
  },
  {
   "cell_type": "code",
   "execution_count": 6,
   "metadata": {},
   "outputs": [
    {
     "name": "stdout",
     "output_type": "stream",
     "text": [
      "9.357699418038676\n",
      "0.2873843729697837\n",
      "0.2251713579980373\n",
      "0.1864763265879454\n",
      "0.1597444790817606\n",
      "0.14004001519710682\n",
      "0.12485336539493828\n",
      "0.11275901220963797\n",
      "0.10288174913870764\n",
      "0.0946521540128006\n"
     ]
    }
   ],
   "source": [
    "w = np.random.randn(D + 1)\n",
    "z = Xb.dot(w)\n",
    "Y = sigmoid(z)\n",
    "learning_rate = 0.1\n",
    "for i in range(100):\n",
    "    if i % 10 == 0:\n",
    "        print(cross_entropy(T , Y))\n",
    "    w += 2 * learning_rate * np.dot((T - Y).T , Xb)\n",
    "    z = Xb.dot(w)\n",
    "    Y = sigmoid(z)"
   ]
  }
 ],
 "metadata": {
  "kernelspec": {
   "display_name": "Python 3",
   "language": "python",
   "name": "python3"
  },
  "language_info": {
   "codemirror_mode": {
    "name": "ipython",
    "version": 3
   },
   "file_extension": ".py",
   "mimetype": "text/x-python",
   "name": "python",
   "nbconvert_exporter": "python",
   "pygments_lexer": "ipython3",
   "version": "3.8.5"
  }
 },
 "nbformat": 4,
 "nbformat_minor": 4
}
