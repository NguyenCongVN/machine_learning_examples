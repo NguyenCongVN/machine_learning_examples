{
 "cells": [
  {
   "cell_type": "code",
   "execution_count": 1,
   "metadata": {},
   "outputs": [],
   "source": [
    "import numpy as np\n",
    "import pandas as pd"
   ]
  },
  {
   "cell_type": "code",
   "execution_count": 2,
   "metadata": {},
   "outputs": [],
   "source": [
    "def get_data():\n",
    "    df = pd.read_csv('ecommerce_data.csv')\n",
    "    data = np.array(df)\n",
    "    X = data[: , :-1]\n",
    "    Y = data[: , -1]\n",
    "    X[: , 1] = (X[: , 1] - X[: , 1].mean()) /  X[: , 1].std()\n",
    "    X[: , 2] = (X[: , 2] - X[: , 2].mean()) /  X[: , 2].std()\n",
    "    \n",
    "    N , D = X.shape\n",
    "    X2 = np.zeros((N , D + 3))\n",
    "    X2[: , 0:(D - 1)] = X[: , 0:(D - 1)]\n",
    "    \n",
    "    #one-hot encoding \n",
    "    for n in range(N):\n",
    "        t = int(X[n , D - 1])\n",
    "        X2[t + D - 1] = 1\n",
    "    return X2 , Y"
   ]
  },
  {
   "cell_type": "code",
   "execution_count": 3,
   "metadata": {},
   "outputs": [],
   "source": [
    "def get_binary_data():\n",
    "    X , Y = get_data()\n",
    "    X2 = X[Y <= 1]\n",
    "    Y2 = Y[Y <= 1]\n",
    "    return X2 , Y2"
   ]
  },
  {
   "cell_type": "code",
   "execution_count": 4,
   "metadata": {},
   "outputs": [],
   "source": [
    "X , Y = get_binary_data()\n",
    "D = X.shape[1]\n",
    "W = np.random.randn(D)\n",
    "b = 0"
   ]
  },
  {
   "cell_type": "code",
   "execution_count": 5,
   "metadata": {},
   "outputs": [],
   "source": [
    "def sigmoid(a):\n",
    "    return 1 / (1 + np.exp(-a))\n",
    "def forward(X , W , b):\n",
    "    return sigmoid(X.dot(W) + b)\n",
    "def classification_rate(Y , P):\n",
    "    return np.mean(Y == P)"
   ]
  },
  {
   "cell_type": "code",
   "execution_count": 6,
   "metadata": {},
   "outputs": [
    {
     "name": "stdout",
     "output_type": "stream",
     "text": [
      "score : 0.4648241206030151\n"
     ]
    }
   ],
   "source": [
    "Y_given_by_X = forward(X , W , b)\n",
    "predictions = np.round(Y_given_by_X)\n",
    "print('score : ' + str(classification_rate(Y , predictions)))"
   ]
  }
 ],
 "metadata": {
  "kernelspec": {
   "display_name": "Python 3",
   "language": "python",
   "name": "python3"
  },
  "language_info": {
   "codemirror_mode": {
    "name": "ipython",
    "version": 3
   },
   "file_extension": ".py",
   "mimetype": "text/x-python",
   "name": "python",
   "nbconvert_exporter": "python",
   "pygments_lexer": "ipython3",
   "version": "3.8.5"
  }
 },
 "nbformat": 4,
 "nbformat_minor": 4
}
