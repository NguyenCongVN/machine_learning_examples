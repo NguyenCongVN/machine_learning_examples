{
 "cells": [
  {
   "cell_type": "code",
   "execution_count": 1,
   "metadata": {},
   "outputs": [],
   "source": [
    "import numpy as np\n",
    "import matplotlib.pyplot as plt\n",
    "\n",
    "from sklearn.utils import shuffle\n",
    "from process import get_binary_data"
   ]
  },
  {
   "cell_type": "code",
   "execution_count": 2,
   "metadata": {},
   "outputs": [],
   "source": [
    "X_train , Y_train , X_test , Y_test = get_binary_data()"
   ]
  },
  {
   "cell_type": "code",
   "execution_count": 3,
   "metadata": {},
   "outputs": [],
   "source": [
    "D = X_train.shape[1]\n",
    "W = np.random.randn(D)\n",
    "b = 0"
   ]
  },
  {
   "cell_type": "code",
   "execution_count": 4,
   "metadata": {},
   "outputs": [],
   "source": [
    "def sigmoid(a):\n",
    "    return 1 / (1 + np.exp(-a))\n",
    "def forward(X , w , b):\n",
    "    return sigmoid(X.dot(w) + b)\n",
    "def classification_rate(Y , P):\n",
    "    return np.mean(Y == P)\n",
    "def cross_entropy(T , pY):\n",
    "    return np.mean(T * np.log(pY) + T * np.log(1 - pY))"
   ]
  },
  {
   "cell_type": "code",
   "execution_count": 5,
   "metadata": {},
   "outputs": [
    {
     "name": "stdout",
     "output_type": "stream",
     "text": [
      "-0.6880748749134564\n",
      "rate :0.7174603174603175\n",
      "-1.8066616956841106\n",
      "rate :0.9714285714285714\n",
      "-1.939843219625324\n",
      "rate :0.9714285714285714\n",
      "-1.976254492526613\n",
      "rate :0.9714285714285714\n",
      "-1.9874420356694502\n",
      "rate :0.9714285714285714\n",
      "-1.991012845164845\n",
      "rate :0.9714285714285714\n",
      "-1.9921740612800336\n",
      "rate :0.9714285714285714\n",
      "-1.9925569096613676\n",
      "rate :0.9714285714285714\n",
      "-1.9926847616477263\n",
      "rate :0.9714285714285714\n",
      "-1.9927280140903603\n",
      "rate :0.9714285714285714\n",
      "0.9714285714285714\n",
      "0.9518072289156626\n"
     ]
    }
   ],
   "source": [
    "train_costs = []\n",
    "test_costs = []\n",
    "learning_rate = 0.001\n",
    "for i in range(10000):\n",
    "    pYtrain = forward(X_train , W , b )\n",
    "    pYtest = forward(X_test , W , b)\n",
    "    ctrain = cross_entropy(Y_train , pYtrain )\n",
    "    ctest = cross_entropy(Y_test , pYtest )\n",
    "    train_costs.append(ctrain)\n",
    "    test_costs.append(ctest)\n",
    "    if i % 1000 == 0:\n",
    "        print(ctrain)\n",
    "        print('rate :' + str(classification_rate(Y_train , np.round(pYtrain))))\n",
    "    W += learning_rate * np.dot((Y_train - pYtrain).T , X_train)\n",
    "print(classification_rate(Y_train , np.round(pYtrain)))\n",
    "print(classification_rate(Y_test , np.round(pYtest)))"
   ]
  }
 ],
 "metadata": {
  "kernelspec": {
   "display_name": "Python 3",
   "language": "python",
   "name": "python3"
  },
  "language_info": {
   "codemirror_mode": {
    "name": "ipython",
    "version": 3
   },
   "file_extension": ".py",
   "mimetype": "text/x-python",
   "name": "python",
   "nbconvert_exporter": "python",
   "pygments_lexer": "ipython3",
   "version": "3.8.5"
  }
 },
 "nbformat": 4,
 "nbformat_minor": 4
}
